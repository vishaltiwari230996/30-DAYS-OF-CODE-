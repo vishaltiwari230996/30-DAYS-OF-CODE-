{
 "cells": [
  {
   "cell_type": "markdown",
   "id": "8c70e0be-f0ad-4955-9af0-df9f352abeeb",
   "metadata": {},
   "source": [
    "# 30 DAYS OF CODE"
   ]
  },
  {
   "cell_type": "markdown",
   "id": "3d767715-40fb-4650-beb7-98962b84e7a6",
   "metadata": {},
   "source": [
    "### P1 - ADD TWO NUMBERS"
   ]
  },
  {
   "cell_type": "code",
   "execution_count": null,
   "id": "120cafcc-a575-4299-942b-8f96a257b175",
   "metadata": {},
   "outputs": [],
   "source": [
    " '''\n",
    "def sum(a,b):\n",
    "    return a+b\n",
    "'''\n",
    "n = int(input(\"enter the first number \"))\n",
    "m= int(input(\"enter the seciond number \"))\n",
    "add=n+m\n",
    "print(\"sum of two numbers is\",add)\n"
   ]
  },
  {
   "cell_type": "markdown",
   "id": "ff75ae52-e21b-4be3-9964-9c9e34f75eab",
   "metadata": {},
   "source": [
    "### P2 - AREA OF CIRCLE"
   ]
  },
  {
   "cell_type": "code",
   "execution_count": null,
   "id": "b28650cd-db35-4f10-975e-e308fe2e7f81",
   "metadata": {},
   "outputs": [],
   "source": [
    "'''\n",
    "def area(r):\n",
    "    return (3.14)*(r**2)\n",
    "'''\n",
    "radius = int (input(\"enter the radius of circle \"))\n",
    "area= (radius**2)*3.14\n",
    "print(\"the area of cirlce with radius \" ,radius, \" is \",area)\n",
    "\n"
   ]
  },
  {
   "cell_type": "markdown",
   "id": "692ef358-92b1-49cc-bb7e-5e380655909f",
   "metadata": {},
   "source": [
    "### P3 - AREA OF POLYGONS (RECTANGLE & TRIANGELE )"
   ]
  },
  {
   "cell_type": "code",
   "execution_count": 3,
   "id": "39f48541-7fe7-4aa0-aa56-7305acb35b98",
   "metadata": {},
   "outputs": [
    {
     "name": "stdout",
     "output_type": "stream",
     "text": [
      "select 1 for rectangle and 2 for triangle\n"
     ]
    },
    {
     "name": "stdin",
     "output_type": "stream",
     "text": [
      " 2\n",
      "enter the base   45\n",
      "enter the height  56\n"
     ]
    },
    {
     "name": "stdout",
     "output_type": "stream",
     "text": [
      "the area is  1260.0\n"
     ]
    }
   ],
   "source": [
    "\"\"\"\n",
    "def rectangle(l,b):\n",
    "    return l*b\n",
    "def triangle(b,h):\n",
    "    return .5*b*h\n",
    "\"\"\"\n",
    "print(\"select 1 for rectangle and 2 for triangle\")\n",
    "choice =int(input())\n",
    "if choice == 1:\n",
    "    lenght = int (input(\"enter the lenght \"))\n",
    "    width = int (input(\"enter the width \"))\n",
    "    print(\"the area is \",lenght*width)\n",
    "    \n",
    "elif choice ==2  :\n",
    "    base  = int (input(\"enter the base  \"))\n",
    "    height  = int (input(\"enter the height \"))\n",
    "    print(\"the area is \",0.5*base*height)\n",
    "    \n",
    "\n"
   ]
  },
  {
   "cell_type": "markdown",
   "id": "902a0d2e-2a97-4087-8d82-eae2140862e6",
   "metadata": {},
   "source": [
    "### P3 - SALARY SLIP\n",
    "#### BELOW GIVEN IS A SAMPLE OF SALARY SLIP"
   ]
  },
  {
   "cell_type": "raw",
   "id": "a22e2307-46ba-46bc-bbe3-26c8c8644aec",
   "metadata": {},
   "source": [
    "\n",
    "---------Salary Slip----------\n",
    "Employee Id     :        123456\n",
    "Name            :        KUSHAL\n",
    "Designation     :        SDE\n",
    "------------------------------\n",
    "Leaves          :        5\n",
    "Leaves Amount   :        166666.6666666667\n",
    "------------------------------\n",
    "Ta      Da      Hra     Ma\n",
    "50000.0          60000.0         70000.0         3500\n",
    "------------------------------\n",
    "Gross Salary    :        1183500.0\n",
    "Income Tax      :        50000.0\n",
    "Net Salary      :        966833.3333333333\n",
    "------------------------------"
   ]
  },
  {
   "cell_type": "code",
   "execution_count": 10,
   "id": "64faa304-b5df-47a9-98fb-75afda910d63",
   "metadata": {},
   "outputs": [
    {
     "name": "stdin",
     "output_type": "stream",
     "text": [
      "enter the employee id 4522\n",
      "enter the name  vishal \n",
      "enter the designation  sde\n",
      "enter the basic salary  45000\n",
      "enter the amount of leaves  5\n"
     ]
    },
    {
     "name": "stdout",
     "output_type": "stream",
     "text": [
      "---------Salary Slip----------\n",
      "EMPLOYEE ID   \t: 4522\n",
      "EMPLOYEE NAME \t: vishal \n",
      "DESIGNATION   \t: sde\n",
      "------------------------------\n",
      "LEAVES        \t: 5\n",
      "LEAVES AMOUNT \t: 7500.0\n",
      "------------------------------\n",
      "TA\tDA\tHRA\tMA\n",
      "2250.0 \t 2700.0 \t 3150.0 \t 3500\n",
      "------------------------------\n",
      "GROSS SALARY    : 56600.0\n",
      "INCOME TAX      : 2250.0\n",
      "NET  SALARY     : 46850.0\n"
     ]
    }
   ],
   "source": [
    "\n",
    "EMPID= int(input(\"enter the employee id\"))\n",
    "name= input(\"enter the name \")\n",
    "DSG=input(\"enter the designation \")\n",
    "BASIC=int(input(\"enter the basic salary \"))\n",
    "LEAVES=int(input(\"enter the amount of leaves \"))\n",
    "\n",
    "lamount=BASIC/30*LEAVES\n",
    "ta=BASIC*5/100\n",
    "da=BASIC*6/100\n",
    "hra=BASIC*7/100\n",
    "ma=3500\n",
    "gross=BASIC+ta+da+hra+ma\n",
    "itax=BASIC*5/100\n",
    "net=gross-itax-lamount\n",
    "print(\"---------Salary Slip----------\")\n",
    "print(\"EMPLOYEE ID   \\t:\", EMPID)\n",
    "print(\"EMPLOYEE NAME \\t:\", name)\n",
    "print(\"DESIGNATION   \\t:\", DSG)\n",
    "print(\"------------------------------\")\n",
    "print(\"LEAVES        \\t:\", LEAVES)\n",
    "print(\"LEAVES AMOUNT \\t:\", lamount)\n",
    "print(\"------------------------------\")\n",
    "print(\"TA\\tDA\\tHRA\\tMA\")\n",
    "print(ta,\"\\t\",da,\"\\t\",hra,\"\\t\",ma)\n",
    "print(\"------------------------------\")\n",
    "print(\"GROSS SALARY    :\",gross)\n",
    "print(\"INCOME TAX      :\",itax)\n",
    "print(\"NET  SALARY     :\",net)\n",
    "\n",
    "\n",
    "\n",
    "\n"
   ]
  },
  {
   "cell_type": "markdown",
   "id": "5850083b-ea58-4eaf-8bdd-518fc28ea4e9",
   "metadata": {},
   "source": [
    "### P5 - SIMPLE INTREST \n"
   ]
  },
  {
   "cell_type": "code",
   "execution_count": 13,
   "id": "d0b84cb1-5ba4-446f-b7c7-35eebda2c2f9",
   "metadata": {},
   "outputs": [
    {
     "name": "stdin",
     "output_type": "stream",
     "text": [
      "enter the principle amount  45\n",
      "enter the rate of intrest  10\n",
      "enter the time period in years 5\n"
     ]
    },
    {
     "name": "stdout",
     "output_type": "stream",
     "text": [
      "the simple intrest is  : 2250.0\n"
     ]
    }
   ],
   "source": [
    "pamount=float(input(\"enter the principle amount \"))\n",
    "rate=float(input(\"enter the rate of intrest \"))\n",
    "time=int(input(\"enter the time period in years\"))\n",
    "print(\"the simple intrest is  :\",pamount*rate*time)"
   ]
  },
  {
   "cell_type": "markdown",
   "id": "850c94f9-889d-462c-9d7c-a7ceecf2ddc0",
   "metadata": {},
   "source": [
    "### P6 - EXPONENTIAL POWER "
   ]
  },
  {
   "cell_type": "code",
   "execution_count": 16,
   "id": "15037a0a-2f76-4262-883e-daedb2fd0098",
   "metadata": {},
   "outputs": [
    {
     "name": "stdin",
     "output_type": "stream",
     "text": [
      "enter the number for its square and cube and value of its sqrt  45\n"
     ]
    },
    {
     "name": "stdout",
     "output_type": "stream",
     "text": [
      "square is : 2025 cube is : 91125\n",
      "sqrt is : 6.708203932499369\n"
     ]
    }
   ],
   "source": [
    "num=int(input(\"enter the number for its square and cube and value of its sqrt \"))\n",
    "print(\"square is :\",num**2,\"cube is :\",num**3)\n",
    "import math\n",
    "print(\"sqrt is :\",math.sqrt(num))"
   ]
  },
  {
   "cell_type": "markdown",
   "id": "75f22d90-6a3e-487e-bcc4-2a7c4e6cc7b1",
   "metadata": {},
   "source": [
    "### P7 - CELSIUS TO FARENHEITE AND REVERSE "
   ]
  },
  {
   "cell_type": "code",
   "execution_count": 28,
   "id": "0b77e83e-7d80-435b-aafb-5ca0c69611f2",
   "metadata": {},
   "outputs": [
    {
     "name": "stdout",
     "output_type": "stream",
     "text": [
      "WELCOME TO TEMPREATURE CONVERSION PANEL :\n",
      "-----------------------------------------\n",
      " PRESS 1 FOR F TO C AND 2 FOR REVERSE   :\n"
     ]
    },
    {
     "name": "stdin",
     "output_type": "stream",
     "text": [
      " 1\n"
     ]
    },
    {
     "name": "stdout",
     "output_type": "stream",
     "text": [
      "ENTER TEMP IN F :\n"
     ]
    },
    {
     "name": "stdin",
     "output_type": "stream",
     "text": [
      " 45\n"
     ]
    },
    {
     "name": "stdout",
     "output_type": "stream",
     "text": [
      "TEMPREATURE IN CELSIUS : 7.222222222222222\n"
     ]
    }
   ],
   "source": [
    "print(\"WELCOME TO TEMPREATURE CONVERSION PANEL :\")\n",
    "print(\"-----------------------------------------\")\n",
    "print(\" PRESS 1 FOR F TO C AND 2 FOR REVERSE   :\")\n",
    "choice=int(input())\n",
    "if choice == 1:\n",
    "    print(\"ENTER TEMP IN F :\")\n",
    "    t1=float(input())\n",
    "    print(\"TEMPREATURE IN CELSIUS :\",((t1-32)*((5/9))))\n",
    "elif choice == 2:\n",
    "    print(\"ENTER TEMP IN C :\")\n",
    "    T2=float(input())\n",
    "    print(\"TEMPRETURE IN FAREHEITE :\",((T2*(9/5)+32)))"
   ]
  },
  {
   "cell_type": "markdown",
   "id": "05ad8f10-49c5-4305-80dc-512b501933a2",
   "metadata": {},
   "source": [
    "### P8 - CALCULATOR"
   ]
  },
  {
   "cell_type": "code",
   "execution_count": 1,
   "id": "c140818f-ce16-494f-b4ea-6e46709bd8a3",
   "metadata": {},
   "outputs": [
    {
     "name": "stdout",
     "output_type": "stream",
     "text": [
      "WELCOME TO THE CALCULATOR\n",
      "-------------------------\n",
      "---THE OPERATIONS LIST---\n",
      "---  PRESS 1 FOR SUM  ---\n",
      "---  PRESS 2 FOR MUL  ---\n",
      "---  PRESS 3 FOR SUB  ---\n"
     ]
    },
    {
     "name": "stdin",
     "output_type": "stream",
     "text": [
      " 3\n",
      "enter the first number : 45\n",
      "enter the first number : 25\n"
     ]
    },
    {
     "name": "stdout",
     "output_type": "stream",
     "text": [
      "SUB IS : 20\n"
     ]
    }
   ],
   "source": [
    "print(\"WELCOME TO THE CALCULATOR\")\n",
    "print(\"-------------------------\")\n",
    "print(\"---THE OPERATIONS LIST---\")\n",
    "print(\"---  PRESS 1 FOR SUM  ---\")\n",
    "print(\"---  PRESS 2 FOR MUL  ---\")\n",
    "print(\"---  PRESS 3 FOR SUB  ---\")\n",
    "choice=int(input())\n",
    "num1=int(input(\"enter the first number :\"))\n",
    "num2=int(input(\"enter the first number :\"))\n",
    "if choice ==1:\n",
    "    print(\"SUM IS :\",num1+num2)\n",
    "elif choice==2:\n",
    "    print(\"PRODUCT IS :\",num1*num2)\n",
    "elif choice ==3 :\n",
    "    print(\"SUB IS :\",num1-num2)"
   ]
  },
  {
   "cell_type": "code",
   "execution_count": null,
   "id": "57a0d487-5792-49bd-bdbb-c1dd52ef15fc",
   "metadata": {},
   "outputs": [],
   "source": []
  }
 ],
 "metadata": {
  "kernelspec": {
   "display_name": "Python 3",
   "language": "python",
   "name": "python3"
  },
  "language_info": {
   "codemirror_mode": {
    "name": "ipython",
    "version": 3
   },
   "file_extension": ".py",
   "mimetype": "text/x-python",
   "name": "python",
   "nbconvert_exporter": "python",
   "pygments_lexer": "ipython3",
   "version": "3.8.8"
  }
 },
 "nbformat": 4,
 "nbformat_minor": 5
}
