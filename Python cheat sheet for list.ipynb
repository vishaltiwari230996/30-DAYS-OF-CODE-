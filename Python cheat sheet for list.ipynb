{
 "cells": [
  {
   "cell_type": "markdown",
   "id": "420bfba0",
   "metadata": {},
   "source": [
    "# List in python \n"
   ]
  },
  {
   "cell_type": "markdown",
   "id": "7653a899",
   "metadata": {},
   "source": [
    "#### what are list?"
   ]
  },
  {
   "cell_type": "markdown",
   "id": "0ce9c797",
   "metadata": {},
   "source": [
    "##### As a benginner we know to store value using variables but what if i want to input many values in using a single variable? \n",
    "lets say jhon works  as an hr and have to store the details of the employe working in sales department?\n",
    "should he use new variable to store every name ?\n",
    "\n",
    "to solve this delima of jhon we need a variable that can store multiple values under a single variable name.\n",
    "in other languages we have something called arrays capable of storing values of same kind in a single variable although list are more easy going in terms of use as we follow we will we explore all the fuctions and its properties in this notebook \n"
   ]
  },
  {
   "cell_type": "markdown",
   "id": "255112a1",
   "metadata": {},
   "source": [
    "### MAKING A LIST / DECLARING ONE "
   ]
  },
  {
   "cell_type": "code",
   "execution_count": 4,
   "id": "18145501",
   "metadata": {},
   "outputs": [
    {
     "name": "stdout",
     "output_type": "stream",
     "text": [
      "['AJAY', 'VIAJY', 'ALEX', 'GEORGE', 1, 2, 2, 2]\n",
      "[]\n"
     ]
    }
   ],
   "source": [
    "NAME=['AJAY','VIAJY','ALEX','GEORGE',1,2,2,2]\n",
    "print(NAME)\n",
    "EMPTYLIST=[]\n",
    "print(EMPTYLIST)\n"
   ]
  },
  {
   "cell_type": "markdown",
   "id": "5f5961c7",
   "metadata": {},
   "source": [
    "### ACESSING THE VALUES OF LIST"
   ]
  },
  {
   "cell_type": "code",
   "execution_count": 7,
   "id": "23f74b58",
   "metadata": {},
   "outputs": [
    {
     "name": "stdout",
     "output_type": "stream",
     "text": [
      "PIZZA\n",
      "EGGS\n",
      "BACON\n"
     ]
    }
   ],
   "source": [
    "SPAM=['BACON','EGGS','PIZZA']\n",
    "print(SPAM[2])\n",
    "print(SPAM[1])\n",
    "print(SPAM[0])"
   ]
  },
  {
   "cell_type": "markdown",
   "id": "776fea2b",
   "metadata": {},
   "source": [
    "### NESTED LIST AND ACESSING THEM \n"
   ]
  },
  {
   "cell_type": "code",
   "execution_count": 10,
   "id": "5d6d0bd8",
   "metadata": {},
   "outputs": [
    {
     "name": "stdout",
     "output_type": "stream",
     "text": [
      "ALEX\n",
      "ALEXA\n",
      "JHON\n",
      "50\n",
      "60\n"
     ]
    }
   ],
   "source": [
    "EMPLOYEE=[['ALEX','ALEXA','JHON'],[50,60,70]]\n",
    "EMPLOYEE[0]\n",
    "print(EMPLOYEE[0][0])\n",
    "print(EMPLOYEE[0][1])\n",
    "print(EMPLOYEE[0][2])\n",
    "print(EMPLOYEE[1][0])\n",
    "print(EMPLOYEE[1][1])"
   ]
  },
  {
   "cell_type": "markdown",
   "id": "fedaf391",
   "metadata": {},
   "source": [
    "### NEGATIVE INDEXS "
   ]
  },
  {
   "cell_type": "code",
   "execution_count": 11,
   "id": "cacd062c",
   "metadata": {},
   "outputs": [
    {
     "name": "stdout",
     "output_type": "stream",
     "text": [
      "235\n",
      "25\n",
      "10\n"
     ]
    }
   ],
   "source": [
    "MARKS=[10,20,30,454,25,235]\n",
    "print(MARKS[-1])\n",
    "print(MARKS[-2])\n",
    "print(MARKS[-6])"
   ]
  },
  {
   "cell_type": "markdown",
   "id": "3756d33c",
   "metadata": {},
   "source": [
    "### LIST SLICING  "
   ]
  },
  {
   "cell_type": "code",
   "execution_count": 13,
   "id": "1964b7c3",
   "metadata": {},
   "outputs": [
    {
     "name": "stdout",
     "output_type": "stream",
     "text": [
      "['BENCH PRESS']\n",
      "['BENCH PRESS', 'DEAD LIFT']\n",
      "['BENCH PRESS', 'DEAD LIFT', 'PULL UPS']\n",
      "['BENCH PRESS', 'DEAD LIFT', 'PULL UPS', 'PUSHUPS']\n",
      "[]\n",
      "['DEAD LIFT']\n",
      "['DEAD LIFT', 'PULL UPS']\n",
      "['DEAD LIFT', 'PULL UPS', 'PUSHUPS']\n",
      "['BENCH PRESS', 'DEAD LIFT', 'PULL UPS', 'PUSHUPS']\n",
      "['DEAD LIFT', 'PULL UPS', 'PUSHUPS']\n",
      "['PULL UPS', 'PUSHUPS']\n",
      "['PUSHUPS']\n",
      "['BENCH PRESS', 'DEAD LIFT', 'PULL UPS', 'PUSHUPS']\n",
      "['BENCH PRESS', 'DEAD LIFT']\n",
      "['BENCH PRESS']\n",
      "['BENCH PRESS', 'DEAD LIFT', 'PULL UPS']\n"
     ]
    }
   ],
   "source": [
    "GYM=['BENCH PRESS','DEAD LIFT','PULL UPS','PUSHUPS']\n",
    "print(GYM[0:1])\n",
    "print(GYM[0:2])\n",
    "print(GYM[0:3])\n",
    "print(GYM[0:4])\n",
    "print(GYM[1:1])\n",
    "print(GYM[1:2])\n",
    "print(GYM[1:3])\n",
    "print(GYM[1:4])\n",
    "print(GYM[0:])\n",
    "print(GYM[1:])\n",
    "print(GYM[2:])\n",
    "print(GYM[3:])\n",
    "print(GYM[:])\n",
    "print(GYM[:2])\n",
    "print(GYM[:1])\n",
    "print(GYM[0:-1])"
   ]
  },
  {
   "cell_type": "markdown",
   "id": "16dcd6a2",
   "metadata": {},
   "source": [
    "### LENGHT OF LIST "
   ]
  },
  {
   "cell_type": "code",
   "execution_count": 14,
   "id": "17c4fea0",
   "metadata": {},
   "outputs": [
    {
     "name": "stdout",
     "output_type": "stream",
     "text": [
      "4\n",
      "9\n",
      "2\n",
      "3\n",
      "6\n"
     ]
    }
   ],
   "source": [
    "LIST1=['A','B','C','D']\n",
    "LIST2=[1,2,3,4,5,6,7,8,9]\n",
    "LIST3=[['A','B','C'],[1,2,3,4,5,6]]\n",
    "print(len(LIST1))\n",
    "print(len(LIST2))\n",
    "print(len(LIST3))\n",
    "print(len(LIST3[0]))\n",
    "print(len(LIST3[1]))"
   ]
  },
  {
   "cell_type": "markdown",
   "id": "acbe9c84",
   "metadata": {},
   "source": [
    "### CHANGING VALUE AT A PARTICULAR INDEX "
   ]
  },
  {
   "cell_type": "code",
   "execution_count": 15,
   "id": "3c9abdbb",
   "metadata": {},
   "outputs": [
    {
     "name": "stdout",
     "output_type": "stream",
     "text": [
      "['LILY', 'MILLI', 'PENNY', 'SINDY']\n",
      "['BUZO', 'MILLI', 'PENNY', 'SINDY']\n"
     ]
    }
   ],
   "source": [
    "CATNAMES=['LILY','MILLI','PENNY','SINDY']\n",
    "print(CATNAMES)\n",
    "CATNAMES[0]='BUZO'\n",
    "print(CATNAMES)"
   ]
  },
  {
   "cell_type": "markdown",
   "id": "c245f750",
   "metadata": {},
   "source": [
    "### USING DEL STATEMENT IN LIST\n"
   ]
  },
  {
   "cell_type": "code",
   "execution_count": 2,
   "id": "199565cc",
   "metadata": {},
   "outputs": [
    {
     "name": "stdout",
     "output_type": "stream",
     "text": [
      "['bacon', 'cheese', 'pepper']\n"
     ]
    }
   ],
   "source": [
    "SPAM=['egg','bacon','cheese','pepper']\n",
    "del SPAM[0]\n",
    "print(SPAM)"
   ]
  },
  {
   "cell_type": "markdown",
   "id": "2a2665b5",
   "metadata": {},
   "source": [
    " ### MAKING A PROGRAMM WHICH CAN STORE THE EMPLOYEE NAMES\n",
    "  \n",
    "  #### Now we are familiar with the some of the functions of list and we can now help john to write a program to store the name of the employes."
   ]
  },
  {
   "cell_type": "code",
   "execution_count": 2,
   "id": "a32ddbc2",
   "metadata": {},
   "outputs": [
    {
     "name": "stdout",
     "output_type": "stream",
     "text": [
      "ENTER THE EMPLOYEE NAME \n",
      "PRESS nothing to   STOP EXECUTION\n",
      "ajay\n",
      "ENTER THE EMPLOYEE NAME \n",
      "PRESS nothing to   STOP EXECUTION\n",
      "viajy\n",
      "ENTER THE EMPLOYEE NAME \n",
      "PRESS nothing to   STOP EXECUTION\n",
      "\n",
      "['ajay', 'viajy']\n"
     ]
    }
   ],
   "source": [
    "emp_names=[]\n",
    "#mp_dpt=[]\n",
    "while True:\n",
    "    print(\"ENTER THE EMPLOYEE NAME \")\n",
    "    print('PRESS nothing to   STOP EXECUTION')\n",
    "    NAME=input()\n",
    "    if NAME== \"\":\n",
    "        break\n",
    "    emp_names= emp_names+[NAME]\n",
    "print(emp_names)\n",
    "    "
   ]
  },
  {
   "cell_type": "markdown",
   "id": "97623715",
   "metadata": {},
   "source": [
    "###  FOR LOOP IN LIST "
   ]
  },
  {
   "cell_type": "code",
   "execution_count": 3,
   "id": "7f5bfdda",
   "metadata": {},
   "outputs": [
    {
     "name": "stdout",
     "output_type": "stream",
     "text": [
      "alex\n",
      "rina\n",
      "varun\n",
      "akash\n",
      "aman\n"
     ]
    }
   ],
   "source": [
    "emp_names=['alex','rina','varun','akash','aman']\n",
    "for names in emp_names:\n",
    "    print(names)\n",
    "    "
   ]
  },
  {
   "cell_type": "markdown",
   "id": "3a23a7b6",
   "metadata": {},
   "source": [
    "### THE in AND not in OPERATORS\n"
   ]
  },
  {
   "cell_type": "code",
   "execution_count": 6,
   "id": "1df96a4a",
   "metadata": {},
   "outputs": [
    {
     "name": "stdout",
     "output_type": "stream",
     "text": [
      "False\n",
      "True\n"
     ]
    }
   ],
   "source": [
    "EMP_NAMES=['ALEX','JEFF','LILY','KELY']\n",
    "print('AJAY' in EMP_NAMES)\n",
    "print('ALEX' in EMP_NAMES)"
   ]
  },
  {
   "cell_type": "markdown",
   "id": "806629a4",
   "metadata": {},
   "source": [
    "### MULTIPLE ASSIGNMENT TRICK\n"
   ]
  },
  {
   "cell_type": "code",
   "execution_count": 7,
   "id": "c2fd0e8f",
   "metadata": {},
   "outputs": [
    {
     "name": "stdout",
     "output_type": "stream",
     "text": [
      "FERAL BLACK AGGRESIVE\n"
     ]
    }
   ],
   "source": [
    "CAT=['FERAL','BLACK','AGGRESIVE']\n",
    "BREED,COLOR,NATURE=CAT\n",
    "print(BREED,COLOR,NATURE)"
   ]
  },
  {
   "cell_type": "markdown",
   "id": "b1dc9edf",
   "metadata": {},
   "source": [
    "### AUGMENTED ASSIGNMENT OPERATORS\n"
   ]
  },
  {
   "cell_type": "raw",
   "id": "98284c51",
   "metadata": {},
   "source": [
    "lets take a list say spam as example\n",
    "then using augmented assignment operators is just using the short hand dispriction of acutal statement\n",
    "\n",
    "AUGMENTED ASSIGNMENT STATEMENT | EQUIVALENT ASSIGNMENT STATEMENT\n",
    "\n",
    "spam = spam + 1  |  spam +=1\n",
    "spam = spam - 1  |  spam -=1\n",
    "spam = spam * 1  |  spam *=1\n",
    "spam = spam / 1  |  spam /=1\n",
    "spam = spam % 1  |  spam %=1"
   ]
  },
  {
   "cell_type": "code",
   "execution_count": 8,
   "id": "b27e19bb",
   "metadata": {},
   "outputs": [
    {
     "data": {
      "text/plain": [
       "['EGGS', 'BACON']"
      ]
     },
     "execution_count": 8,
     "metadata": {},
     "output_type": "execute_result"
    }
   ],
   "source": [
    "SPAM=['EGGS']\n",
    "SPAM+=['BACON']\n",
    "\n",
    "SPAM"
   ]
  },
  {
   "cell_type": "markdown",
   "id": "e29a2226",
   "metadata": {},
   "source": [
    "### LIST METHODS\n"
   ]
  },
  {
   "cell_type": "raw",
   "id": "c9d200e8",
   "metadata": {},
   "source": [
    "Method is same as a function except it is called on a value."
   ]
  },
  {
   "cell_type": "markdown",
   "id": "036b2317",
   "metadata": {},
   "source": [
    "### index() METHOD"
   ]
  },
  {
   "cell_type": "code",
   "execution_count": 4,
   "id": "e8515065",
   "metadata": {},
   "outputs": [
    {
     "name": "stdout",
     "output_type": "stream",
     "text": [
      "1\n",
      "0\n"
     ]
    }
   ],
   "source": [
    "spam=['hello','hi','howdy']\n",
    "print(spam.index('hi'))\n",
    "# if a value is present multiple times in list this method will return\n",
    "#the index value of first ocurrence \n",
    "spam=['hello','hi','howdy','hello']\n",
    "print(spam.index('hello'))"
   ]
  },
  {
   "cell_type": "markdown",
   "id": "92fd08f2",
   "metadata": {},
   "source": [
    "###  append() & insert() METHOD"
   ]
  },
  {
   "cell_type": "raw",
   "id": "1d2bf0e0",
   "metadata": {},
   "source": [
    "using append() method will add the value to the end of list while insert() will add value at the provided index in the list\n"
   ]
  },
  {
   "cell_type": "code",
   "execution_count": 7,
   "id": "589ec506",
   "metadata": {},
   "outputs": [
    {
     "name": "stdout",
     "output_type": "stream",
     "text": [
      "['hi', 'kumar']\n",
      "['hi', 'vikas', 'kumar']\n"
     ]
    }
   ],
   "source": [
    "spam=['hi']\n",
    "spam.append('kumar')\n",
    "print(spam)\n",
    "spam.insert(1,'vikas')\n",
    "print(spam)"
   ]
  },
  {
   "cell_type": "code",
   "execution_count": null,
   "id": "f7df7f5c",
   "metadata": {},
   "outputs": [],
   "source": []
  }
 ],
 "metadata": {
  "kernelspec": {
   "display_name": "Python 3 (ipykernel)",
   "language": "python",
   "name": "python3"
  },
  "language_info": {
   "codemirror_mode": {
    "name": "ipython",
    "version": 3
   },
   "file_extension": ".py",
   "mimetype": "text/x-python",
   "name": "python",
   "nbconvert_exporter": "python",
   "pygments_lexer": "ipython3",
   "version": "3.9.7"
  }
 },
 "nbformat": 4,
 "nbformat_minor": 5
}
